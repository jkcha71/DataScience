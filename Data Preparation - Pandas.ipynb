{
    "metadata": {
        "language_info": {
            "file_extension": ".py", 
            "nbconvert_exporter": "python", 
            "mimetype": "text/x-python", 
            "version": "2.7.11", 
            "pygments_lexer": "ipython2", 
            "codemirror_mode": {
                "name": "ipython", 
                "version": 2
            }, 
            "name": "python"
        }, 
        "kernelspec": {
            "name": "python2", 
            "language": "python", 
            "display_name": "Python 2 with Spark 1.6"
        }
    }, 
    "nbformat": 4, 
    "nbformat_minor": 0, 
    "cells": [
        {
            "source": "# Data Preparation using Pandas\n\nThis notebook shows you the basic steps when understanding data in a notebook. \nYou will learn how to load a data file to a notebook, access this data file in Object Storage, and then load the content of the data file into a `pandas` DataFrame. \nFurthermore, you will learn how to manipulate in the DataFrame.\n\n## Table of contents\n1. [Get data](#data_set)\n\n2. [Load data](#load_data)\n\n3. [Access data](#access_data)\n\n4. [Explore data](#explore_data)\n\n", 
            "metadata": {}, 
            "cell_type": "markdown"
        }, 
        {
            "source": "<a id=\"data_set\"></a> \n## 1. Get data\nIn this notebook, you will explore and analyze historical annual precipitation data.\n\nThe raw precipitation data set is from [UNdata](http://data.un.org/), an Internet search engine for statistical databases provided by the United Nations Statistics Division. You will use a curated version of this data set in this sample. The precipitation measurements are in million cubic meters.\n\nTo get the precipitation data set:\n1. Click [annual precipitation data set](https://cdsax.cloudant.com/public-samples/test/precipitation.csv) to download the data in CSV format.   \n    Note: If you use Safari, right-click the link and select **Download Linked File**. The CSV file is downloaded to your `Download` folder.              \n1. Save the CSV file to your computer.\n\n", 
            "metadata": {}, 
            "cell_type": "markdown"
        }, 
        {
            "source": "<a id=\"load_data\"></a>\n## 2. Load data\nYou can add the CSV file that you downloaded to this notebook by clicking the **Data** icon on the notebook action bar and dragging the file to the `Data` pane in the notebook. \nThe data file is listed on the `Data` pane and is saved in the Object Storage instance associated with your project.\n\nIn the next step, you will learn how to access files in Object Storage.", 
            "metadata": {}, 
            "cell_type": "markdown"
        }, 
        {
            "source": "<a id=\"access_data\"></a> \n## 3. Access data \n\n**[pandas](http://pandas.pydata.org/)** is a useful Python package for managing structured data.  The two primary data structures of pandas are [`Series`](http://pandas-docs.github.io/pandas-docs-travis/dsintro.html#series) (1-dimensional) and [`DataFrame`](http://pandas-docs.github.io/pandas-docs-travis/dsintro.html#dataframe) (2-dimensional).\n\nIn the following steps, you will load the `precipitation.csv` file into a DataFrame in memory.\n\nTo run code cells in a notebook, click Run Cell (**&#9658;**) in the notebook toolbar.  While the code in the cell is running, a `[*]` appears next to the cell. After the code has run, the `[*]` is replaced by a number indicating that the code cell is the *N*th cell to run in the notebook.", 
            "metadata": {}, 
            "cell_type": "markdown"
        }, 
        {
            "source": "### Insert code to access the data source\n\nTo add the code to access the `precipitation.csv` file which is stored in Object Storage, click the next code cell and select **Insert to code>pandas DataFrame** on the data file that you loaded in the `Data` pane in the notebook.\n\nThis function inserts the setup and data loading code for you. The setup code includes importing the required packages and defining a helper function. The helper function includes the Object Storage credentials to access the `precipitation.csv` file. Then, the data in the `precipitation.csv` file is loaded into a `pandas DataFrame`.\n", 
            "metadata": {}, 
            "cell_type": "markdown"
        }, 
        {
            "source": "<div class=\"alert alert-block alert-info\">Note: The DataFrame that is created for you and filled with data is given a generic name. Rename the DataFrame to `precipitation_df` and run the code cell to proceed.</div>", 
            "metadata": {}, 
            "cell_type": "markdown"
        }, 
        {
            "execution_count": 5, 
            "source": "# The code was removed by DSX for sharing.", 
            "cell_type": "code", 
            "metadata": {
                "collapsed": false
            }, 
            "outputs": []
        }, 
        {
            "execution_count": 6, 
            "source": "df_data_1 = pd.read_csv(get_object_storage_file_with_credentials_26e786c69d8243259d12d9a8448058dc('JKC1Project', 'UNdata_Export_20150921_104154271.csv'))", 
            "cell_type": "code", 
            "metadata": {
                "collapsed": true
            }, 
            "outputs": []
        }, 
        {
            "source": "<a id=\"explore_data\"></a> \n## 4. Explore data\n\nNow that your data is in memory, you can begin to explore and manipulate it.\n\nShow the first five and the last five rows of the data by using the `head()` and `tail()` methods.  Run each code cell:", 
            "metadata": {}, 
            "cell_type": "markdown"
        }, 
        {
            "execution_count": null, 
            "source": "df_data_1.head()", 
            "cell_type": "code", 
            "metadata": {
                "collapsed": false
            }, 
            "outputs": []
        }, 
        {
            "execution_count": null, 
            "source": "df_data_1.tail()", 
            "cell_type": "code", 
            "metadata": {
                "scrolled": true, 
                "collapsed": false
            }, 
            "outputs": []
        }, 
        {
            "source": "Each row in the table lists:\n\n* The country or region where the measurements were taken\n* The annual precipitation for 1990, and for the years 1995 to 2009\n\nBy using the `DataFrame` API, you can list all countries or areas for which precipitation measurements exist. Run the following cell to list these countries:", 
            "metadata": {}, 
            "cell_type": "markdown"
        }, 
        {
            "execution_count": null, 
            "source": "df_data_1['Country or Area'].values", 
            "cell_type": "code", 
            "metadata": {
                "scrolled": true, 
                "collapsed": false
            }, 
            "outputs": []
        }, 
        {
            "execution_count": null, 
            "source": "df_data_1['Magnitude'].values", 
            "cell_type": "code", 
            "metadata": {
                "collapsed": false
            }, 
            "outputs": []
        }, 
        {
            "execution_count": null, 
            "source": "df_data_1.count()", 
            "cell_type": "code", 
            "metadata": {
                "collapsed": false
            }, 
            "outputs": []
        }, 
        {
            "execution_count": null, 
            "source": "list(df_data_1.columns.values)", 
            "cell_type": "code", 
            "metadata": {
                "collapsed": false
            }, 
            "outputs": []
        }, 
        {
            "execution_count": null, 
            "source": "df_data_1.rename(columns = {'Country or Area':'Country'})", 
            "cell_type": "code", 
            "metadata": {
                "collapsed": false
            }, 
            "outputs": []
        }, 
        {
            "execution_count": 20, 
            "source": "df_data_1.columns = ['ID', 'Country', 'Year', 'Item', 'Unit', 'Value']", 
            "cell_type": "code", 
            "metadata": {
                "collapsed": true
            }, 
            "outputs": []
        }, 
        {
            "execution_count": null, 
            "source": "list(df_data_1.columns.values)", 
            "cell_type": "code", 
            "metadata": {
                "collapsed": false
            }, 
            "outputs": []
        }, 
        {
            "execution_count": null, 
            "source": "", 
            "cell_type": "code", 
            "metadata": {
                "collapsed": true
            }, 
            "outputs": []
        }, 
        {
            "execution_count": null, 
            "source": "list(df_data_1.axes)", 
            "cell_type": "code", 
            "metadata": {
                "collapsed": false
            }, 
            "outputs": []
        }, 
        {
            "execution_count": null, 
            "source": "list(df_data_1.shape)", 
            "cell_type": "code", 
            "metadata": {
                "collapsed": false
            }, 
            "outputs": []
        }, 
        {
            "execution_count": null, 
            "source": "print(df_data_1.iloc[1][1])", 
            "cell_type": "code", 
            "metadata": {
                "collapsed": false
            }, 
            "outputs": []
        }, 
        {
            "execution_count": null, 
            "source": "print(df_data_1.loc[1][1])", 
            "cell_type": "code", 
            "metadata": {
                "collapsed": false
            }, 
            "outputs": []
        }, 
        {
            "execution_count": null, 
            "source": "print(df_data_1.get_value(0,'Year'))", 
            "cell_type": "code", 
            "metadata": {
                "collapsed": false
            }, 
            "outputs": []
        }, 
        {
            "execution_count": null, 
            "source": "print(df_data_1.Year.unique())\nprint(df_data_1.Item.unique())", 
            "cell_type": "code", 
            "metadata": {
                "collapsed": false
            }, 
            "outputs": []
        }, 
        {
            "execution_count": null, 
            "source": "print(df_data_1.Item.nunique())", 
            "cell_type": "code", 
            "metadata": {
                "collapsed": false
            }, 
            "outputs": []
        }, 
        {
            "execution_count": null, 
            "source": "print(df_data_1.groupby('Item').Country.nunique())", 
            "cell_type": "code", 
            "metadata": {
                "collapsed": false
            }, 
            "outputs": []
        }, 
        {
            "execution_count": null, 
            "source": "df_population = df_data_1[df_data_1['Item'] == 'POPULATION']", 
            "cell_type": "code", 
            "metadata": {
                "collapsed": false
            }, 
            "outputs": []
        }, 
        {
            "execution_count": null, 
            "source": "print(df_population.groupby('Year').Country.nunique())", 
            "cell_type": "code", 
            "metadata": {
                "collapsed": false
            }, 
            "outputs": []
        }, 
        {
            "execution_count": null, 
            "source": "df_population", 
            "cell_type": "code", 
            "metadata": {
                "collapsed": false
            }, 
            "outputs": []
        }, 
        {
            "execution_count": null, 
            "source": "df_population = df_population.set_index(df_population['Country'])", 
            "cell_type": "code", 
            "metadata": {
                "collapsed": true
            }, 
            "outputs": []
        }, 
        {
            "execution_count": null, 
            "source": "df_population", 
            "cell_type": "code", 
            "metadata": {
                "collapsed": false
            }, 
            "outputs": []
        }, 
        {
            "execution_count": null, 
            "source": "df_population_simple = df_population.drop('Country', axis=1)", 
            "cell_type": "code", 
            "metadata": {
                "collapsed": false
            }, 
            "outputs": []
        }, 
        {
            "execution_count": null, 
            "source": "df_population_simple.drop('ID', axis=1)", 
            "cell_type": "code", 
            "metadata": {
                "collapsed": false
            }, 
            "outputs": []
        }, 
        {
            "execution_count": null, 
            "source": "", 
            "cell_type": "code", 
            "metadata": {
                "collapsed": true
            }, 
            "outputs": []
        }, 
        {
            "source": "Having the names of the countries or areas as a column comes in handy, but it would be more useful to have the names as an index to the rows. To manipulate the `DataFrame` in this way, run the next cell:", 
            "metadata": {}, 
            "cell_type": "markdown"
        }, 
        {
            "source": "### Author\nSven Hafeneger is a member of the Data Science Experience development team at IBM Analytics in Germany. He holds a M.Sc. in Bioinformatics and is passionate about data analysis, machine learning and the Python ecosystem for data science. ", 
            "metadata": {}, 
            "cell_type": "markdown"
        }, 
        {
            "execution_count": null, 
            "source": "", 
            "cell_type": "code", 
            "metadata": {
                "collapsed": true
            }, 
            "outputs": []
        }
    ]
}